{
 "cells": [
  {
   "cell_type": "markdown",
   "metadata": {
    "collapsed": true,
    "pycharm": {
     "name": "#%% md\n"
    }
   },
   "source": [
    "# Usage\n",
    "\n",
    "## Initialise Client\n",
    "\n",
    "On initialisation, the client will post the\n",
    "conformance classes which are list of available\n",
    "addon functions available for a certain STAC\n",
    "endpoint.\n",
    "\n",
    "First setup of the client, use a STAC endpoint URL\n",
    "as client parameter:"
   ]
  },
  {
   "cell_type": "code",
   "execution_count": null,
   "outputs": [],
   "source": [
    "from client.client import StacPyClient\n",
    "\n",
    "url = 'https://api.stac.ceda.ac.uk'\n",
    "Client = StacPyClient(url=url)"
   ],
   "metadata": {
    "collapsed": false,
    "pycharm": {
     "name": "#%%\n"
    }
   }
  },
  {
   "cell_type": "markdown",
   "source": [
    "## Basic GET usages\n",
    "\n",
    "### GET Collections\n",
    "\n",
    "**/collections**\n",
    "\n",
    "Retrieve a list of collections available at from the STAC endpoint."
   ],
   "metadata": {
    "collapsed": false
   }
  },
  {
   "cell_type": "code",
   "execution_count": null,
   "outputs": [],
   "source": [
    "collections = Client.get_collections()\n",
    "# returns list of collections JSON"
   ],
   "metadata": {
    "collapsed": false,
    "pycharm": {
     "name": "#%%\n"
    }
   }
  },
  {
   "cell_type": "markdown",
   "source": [
    "### GET Collection\n",
    "\n",
    "**/collections/{collectionId}**\n",
    "\n",
    "Retreive a collection, given an collection ID, from the STAC endpoint."
   ],
   "metadata": {
    "collapsed": false
   }
  },
  {
   "cell_type": "code",
   "execution_count": null,
   "outputs": [],
   "source": [
    "collection_id = 'Fj3reHsBhuk7QqVbt7P-'\n",
    "collection = Client.get_collection(collection_id=collection_id)\n",
    "# returns a collection object"
   ],
   "metadata": {
    "collapsed": false,
    "pycharm": {
     "name": "#%%\n"
    }
   }
  },
  {
   "cell_type": "markdown",
   "source": [
    "### GET Itemcollection\n",
    "\n",
    "**/collections/{collectionId}/items**\n",
    "\n",
    "Retrieve a list of items of a specific collection."
   ],
   "metadata": {
    "collapsed": false
   }
  },
  {
   "cell_type": "code",
   "execution_count": null,
   "outputs": [],
   "source": [
    "items = Client.get_itemcollection(collection_id=collection_id)\n",
    "# Returns an item collection object which is a list of items from a collection id,\n",
    "# or get an item collection from a collection object:\n",
    "items = collection.get_items()"
   ],
   "metadata": {
    "collapsed": false,
    "pycharm": {
     "name": "#%%\n"
    }
   }
  },
  {
   "cell_type": "markdown",
   "source": [
    "### GET Item\n",
    "\n",
    "**/collections/{collectionId}/items/{itemId}**\n",
    "\n",
    "Retrieve an item object, from a specific collection, given an item ID."
   ],
   "metadata": {
    "collapsed": false
   }
  },
  {
   "cell_type": "code",
   "execution_count": null,
   "outputs": [],
   "source": [
    "item_id = '2ef41eee0710db0a04c7089b3da3ee6b'\n",
    "item = Client.get_item(collection_id=collection_id, item_id=item_id)\n",
    "# Returns an item object,\n",
    "# or get an item from a collection object given an item ID\n",
    "item = collection.get_items(item_id=item_id)"
   ],
   "metadata": {
    "collapsed": false,
    "pycharm": {
     "name": "#%%\n"
    }
   }
  },
  {
   "cell_type": "markdown",
   "source": [
    "### GET Assets\n",
    "\n",
    "Retrieve a list of assets of a given item."
   ],
   "metadata": {
    "collapsed": false,
    "pycharm": {
     "name": "#%% md\n"
    }
   }
  },
  {
   "cell_type": "code",
   "execution_count": null,
   "outputs": [],
   "source": [
    "assets = item.assets\n",
    "# Returns a list of assets JSON of a specific item."
   ],
   "metadata": {
    "collapsed": false,
    "pycharm": {
     "name": "#%%\n"
    }
   }
  },
  {
   "cell_type": "markdown",
   "source": [
    "### Queryables\n",
    "\n",
    "**/queryables**\n",
    "\n",
    "Retrieve a JSON response for properties to query search."
   ],
   "metadata": {
    "collapsed": false
   }
  },
  {
   "cell_type": "code",
   "execution_count": null,
   "outputs": [],
   "source": [
    "queryables = Client.queryables()"
   ],
   "metadata": {
    "collapsed": false,
    "pycharm": {
     "name": "#%%\n"
    }
   }
  },
  {
   "cell_type": "markdown",
   "source": [
    "### Collection Queryables\n",
    "\n",
    "**/collections/{collectionId}/queryables**\n",
    "\n",
    "Retrieve a JSON response for properties to query in a collection."
   ],
   "metadata": {
    "collapsed": false
   }
  },
  {
   "cell_type": "code",
   "execution_count": null,
   "outputs": [],
   "source": [
    "queryables = Client.collection_queryables(collection_id=collection_id)"
   ],
   "metadata": {
    "collapsed": false,
    "pycharm": {
     "name": "#%%\n"
    }
   }
  },
  {
   "cell_type": "markdown",
   "source": [
    "## Search\n",
    "\n",
    "Usages examples of how search using the python wrapper client.\n",
    "(See Conformance classes `item-search` for capabilities)\n",
    "\n",
    "### Basic Usage:\n",
    "\n",
    "Search the STAC endpoint by filtering through these optional keys:\n",
    "* collections: list of collection IDs\n",
    "* ids: list of item IDs\n",
    "* bbox: list of integers for bounding box\n",
    "* datetime: string of open/closed ended dates or single date.\n",
    "* limit: number of items to list in one page. *Default 10*."
   ],
   "metadata": {
    "collapsed": false
   }
  },
  {
   "cell_type": "code",
   "execution_count": null,
   "outputs": [],
   "source": [
    "Client.search()\n",
    "# returns every item available\n",
    "\n",
    "Client.search(\n",
    "    collections=['Fj3reHsBhuk7QqVbt7P-'],\n",
    "    ids=['2ef41eee0710db0a04c7089b3da3ee6b'],\n",
    "    bbox=[-180, -90, 180, 90],\n",
    "    datetime='2018-02-12T00:00:00Z/2018-03-18T12:31:12Z',\n",
    "    limit=10\n",
    ")\n",
    "# returns an item collection object of any item that satisfies these arguments.\n",
    "# Note: this specific search query won't match anything, though mix and match\n",
    "# the parameters with different values and see what comes up. All are optional."
   ],
   "metadata": {
    "collapsed": false,
    "pycharm": {
     "name": "#%%\n"
    }
   }
  },
  {
   "cell_type": "markdown",
   "source": [
    "### Free Text Search\n",
    "\n",
    "Free text search is provided by the client, using a positional argument as the first\n",
    "or by the `q` parameter.\n",
    "Free text search supports case-insensitive and partial search."
   ],
   "metadata": {
    "collapsed": false
   }
  },
  {
   "cell_type": "code",
   "source": [
    "# All these queries end up with the same search result:\n",
    "\n",
    "result = Client.search(q=\"AerChemMIP\")\n",
    "result = Client.search(\"AerChemMIP\")\n",
    "result = Client.search(\"aerchemmip\")\n",
    "result = Client.search(\"AerChem*\") # the star, *, is a wildcard symbol.\n",
    "\n",
    "# It is also possible to add other arguments to the free text search:\n",
    "result = Client.search(\"aerchem*\", datetime=\"2000-11-01T00:00Z/..\")"
   ],
   "metadata": {
    "collapsed": false,
    "pycharm": {
     "name": "#%%\n"
    }
   },
   "execution_count": null,
   "outputs": []
  },
  {
   "cell_type": "markdown",
   "source": [
    "### Facet Search\n",
    "Filter the search result based on facets of an item. The facet request body\n",
    "should use a dictionary with valid facets found with queryables, labeled under\n",
    "the filter argument."
   ],
   "metadata": {
    "collapsed": false
   }
  },
  {
   "cell_type": "code",
   "execution_count": null,
   "outputs": [],
   "source": [
    "result = Client.search(\n",
    "    filter={\n",
    "        \"institution_id\": [\"CNRM-CERF\"]\n",
    "    }\n",
    ")\n",
    "# The filter is the label for facet search where it consists of a dictionary\n",
    "# made up of the facet as the key and value what to filter for.\n",
    "# Just like others, it can be queried with other arguments:\n",
    "result = Client.search(\n",
    "    q=\"AerChem*\",\n",
    "    filter={\n",
    "     \"eq\": [\n",
    "         {\"property\": \"institution_id\"},\n",
    "         \"CNRM-CERFACS\"\n",
    "     ]\n",
    "  }\n",
    ")"
   ],
   "metadata": {
    "collapsed": false,
    "pycharm": {
     "name": "#%%\n"
    }
   }
  }
 ],
 "metadata": {
  "kernelspec": {
   "display_name": "Python 3",
   "language": "python",
   "name": "python3"
  },
  "language_info": {
   "codemirror_mode": {
    "name": "ipython",
    "version": 2
   },
   "file_extension": ".py",
   "mimetype": "text/x-python",
   "name": "python",
   "nbconvert_exporter": "python",
   "pygments_lexer": "ipython2",
   "version": "2.7.6"
  }
 },
 "nbformat": 4,
 "nbformat_minor": 0
}
