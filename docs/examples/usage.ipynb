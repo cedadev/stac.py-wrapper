{
 "cells": [
  {
   "cell_type": "markdown",
   "metadata": {
    "collapsed": true,
    "pycharm": {
     "name": "#%% md\n"
    }
   },
   "source": [
    "# Usage\n",
    "\n",
    "## Initialise Client\n",
    "\n",
    "On initialisation, the client will post the\n",
    "conformance classes which are list of available\n",
    "addon functions available for a certain STAC\n",
    "endpoint.\n",
    "\n",
    "First setup of the client, use a STAC endpoint URL\n",
    "as client parameter:"
   ]
  },
  {
   "cell_type": "code",
   "execution_count": null,
   "metadata": {
    "pycharm": {
     "name": "#%%\n"
    }
   },
   "outputs": [],
   "source": [
    "from client.client import StacPyClient\n",
    "import json\n",
    "\n",
    "url = 'https://api.stac.ceda.ac.uk'\n",
    "Client = StacPyClient(url=url)"
   ]
  },
  {
   "cell_type": "code",
   "execution_count": null,
   "metadata": {},
   "outputs": [],
   "source": [
    "# Display function\n",
    "def display(obj: dict):\n",
    "    print(json.dumps(obj, indent=4))"
   ]
  },
  {
   "cell_type": "markdown",
   "metadata": {},
   "source": [
    "## Basic GET usages\n",
    "\n",
    "### GET Collections\n",
    "\n",
    "**/collections**\n",
    "\n",
    "Retrieve a list of collections available at from the STAC endpoint."
   ]
  },
  {
   "cell_type": "code",
   "execution_count": null,
   "metadata": {
    "pycharm": {
     "name": "#%%\n"
    }
   },
   "outputs": [],
   "source": [
    "collections = Client.get_collections()\n",
    "# returns list of collections JSON\n",
    "\n",
    "display(collections)"
   ]
  },
  {
   "cell_type": "markdown",
   "metadata": {},
   "source": [
    "### GET Collection\n",
    "\n",
    "**/collections/{collectionId}**\n",
    "\n",
    "Retreive a collection, given an collection ID, from the STAC endpoint."
   ]
  },
  {
   "cell_type": "code",
   "execution_count": null,
   "metadata": {
    "pycharm": {
     "name": "#%%\n"
    }
   },
   "outputs": [],
   "source": [
    "collection_id = collections[0]['id']\n",
    "collection = Client.get_collection(collection_id=collection_id)\n",
    "\n",
    "# returns a collection object\n",
    "display(collection)\n"
   ]
  },
  {
   "cell_type": "markdown",
   "metadata": {},
   "source": [
    "### GET Itemcollection\n",
    "\n",
    "**/collections/{collectionId}/items**\n",
    "\n",
    "Retrieve a list of items of a specific collection."
   ]
  },
  {
   "cell_type": "code",
   "execution_count": null,
   "metadata": {
    "pycharm": {
     "name": "#%%\n"
    }
   },
   "outputs": [],
   "source": [
    "items = Client.get_itemcollection(collection_id=collection_id)\n",
    "# Returns an item collection object which is a list of items from a collection id,\n",
    "# or get an item collection from a collection object:\n",
    "items = collection.get_items()\n",
    "\n",
    "display(items)"
   ]
  },
  {
   "cell_type": "markdown",
   "metadata": {},
   "source": [
    "### GET Item\n",
    "\n",
    "**/collections/{collectionId}/items/{itemId}**\n",
    "\n",
    "Retrieve an item object, from a specific collection, given an item ID."
   ]
  },
  {
   "cell_type": "code",
   "execution_count": null,
   "metadata": {
    "pycharm": {
     "name": "#%%\n"
    }
   },
   "outputs": [],
   "source": [
    "item_id = items['features'][0]['id']\n",
    "item = Client.get_item(collection_id=collection_id, item_id=item_id)\n",
    "# Returns an item object,\n",
    "# or get an item from a collection object given an item ID\n",
    "item = collection.get_items(item_id=item_id)\n",
    "\n",
    "display(item)"
   ]
  },
  {
   "cell_type": "markdown",
   "metadata": {
    "pycharm": {
     "name": "#%% md\n"
    }
   },
   "source": [
    "### GET Assets\n",
    "\n",
    "Retrieve a list of assets of a given item."
   ]
  },
  {
   "cell_type": "code",
   "execution_count": null,
   "metadata": {
    "pycharm": {
     "name": "#%%\n"
    }
   },
   "outputs": [],
   "source": [
    "assets = item.assets\n",
    "# Returns a list of assets JSON of a specific item.\n",
    "\n",
    "display(assets)"
   ]
  },
  {
   "cell_type": "markdown",
   "metadata": {},
   "source": [
    "### Queryables\n",
    "\n",
    "**/queryables**\n",
    "\n",
    "Retrieve a JSON response for properties to query search."
   ]
  },
  {
   "cell_type": "code",
   "execution_count": null,
   "metadata": {
    "pycharm": {
     "name": "#%%\n"
    }
   },
   "outputs": [],
   "source": [
    "queryables = Client.queryables()\n",
    "\n",
    "display(queryables)"
   ]
  },
  {
   "cell_type": "markdown",
   "metadata": {},
   "source": [
    "### Collection Queryables\n",
    "\n",
    "**/collections/{collectionId}/queryables**\n",
    "\n",
    "Retrieve a JSON response for properties to query in a collection."
   ]
  },
  {
   "cell_type": "code",
   "execution_count": null,
   "metadata": {
    "pycharm": {
     "name": "#%%\n"
    }
   },
   "outputs": [],
   "source": [
    "queryables = Client.collection_queryables(collection_id=collection_id)\n",
    "\n",
    "display(queryables)"
   ]
  },
  {
   "cell_type": "markdown",
   "metadata": {},
   "source": [
    "## Search\n",
    "\n",
    "Usages examples of how search using the python wrapper client.\n",
    "(See Conformance classes `item-search` for capabilities)\n",
    "\n",
    "### Basic Usage:\n",
    "\n",
    "Search the STAC endpoint by filtering through these optional keys:\n",
    "* collections: list of collection IDs\n",
    "* ids: list of item IDs\n",
    "* bbox: list of integers for bounding box\n",
    "* datetime: string of open/closed ended dates or single date.\n",
    "* limit: number of items to list in one page. *Default 10*."
   ]
  },
  {
   "cell_type": "code",
   "execution_count": null,
   "metadata": {
    "pycharm": {
     "name": "#%%\n"
    }
   },
   "outputs": [],
   "source": [
    "results = Client.search()\n",
    "# returns every item available\n",
    "\n",
    "results = Client.search(\n",
    "    collections=['Fj3reHsBhuk7QqVbt7P-'],\n",
    "    ids=['2ef41eee0710db0a04c7089b3da3ee6b'],\n",
    "    datetime='2018-02-12T00:00:00Z/2018-03-18T12:31:12Z',\n",
    "    limit=10\n",
    ")\n",
    "# returns an item collection object of any item that satisfies these arguments.\n",
    "# Note: this specific search query won't match anything, though mix and match\n",
    "# the parameters with different values and see what comes up. All are optional.\n",
    "\n",
    "display(results)"
   ]
  },
  {
   "cell_type": "markdown",
   "metadata": {},
   "source": [
    "### Free Text Search\n",
    "\n",
    "Free text search is provided by the client, using a positional argument as the first\n",
    "or by the `q` parameter.\n",
    "Free text search supports case-insensitive and partial search."
   ]
  },
  {
   "cell_type": "code",
   "execution_count": null,
   "metadata": {
    "pycharm": {
     "name": "#%%\n"
    }
   },
   "outputs": [],
   "source": [
    "# All these queries end up with the same search result:\n",
    "result = Client.search(q=\"AerChemMIP\")\n",
    "print(result['context']['matched'])\n",
    "\n",
    "result = Client.search(\"AerChemMIP\")\n",
    "print(result['context']['matched'])\n",
    "\n",
    "result = Client.search(\"aerchemmip\")\n",
    "print(result['context']['matched'])\n",
    "\n",
    "# Can use wildcard queries for partial matches\n",
    "result = Client.search(\"AerChem*\") # the star, *, is a wildcard symbol.\n",
    "\n",
    "\n",
    "# It is also possible to add other arguments to the free text search:\n",
    "result = Client.search(\"aerchem*\", datetime=\"2000-11-01T00:00Z/..\")\n",
    "display(result)"
   ]
  },
  {
   "cell_type": "markdown",
   "metadata": {},
   "source": [
    "### Facet Search\n",
    "Filter the search result based on facets of an item. The facet request body\n",
    "should use a dictionary with valid facets found with queryables, labeled under\n",
    "the filter argument."
   ]
  },
  {
   "cell_type": "code",
   "execution_count": null,
   "metadata": {
    "pycharm": {
     "name": "#%%\n"
    }
   },
   "outputs": [],
   "source": [
    "\n",
    "# The filter is the label for facet search where it consists of a dictionary\n",
    "# made up of the facet as the key and value what to filter for.\n",
    "# Just like others, it can be queried with other arguments:\n",
    "result = Client.search(\n",
    "    filter={\n",
    "        \"eq\": [\n",
    "            {\"property\": \"variable\"},\n",
    "            \"clt\"\n",
    "        ]\n",
    "    }\n",
    ")\n",
    "\n",
    "display(result)"
   ]
  },
  {
   "cell_type": "code",
   "execution_count": null,
   "metadata": {},
   "outputs": [],
   "source": []
  }
 ],
 "metadata": {
  "kernelspec": {
   "display_name": "Python 3 (ipykernel)",
   "language": "python",
   "name": "python3"
  },
  "language_info": {
   "codemirror_mode": {
    "name": "ipython",
    "version": 3
   },
   "file_extension": ".py",
   "mimetype": "text/x-python",
   "name": "python",
   "nbconvert_exporter": "python",
   "pygments_lexer": "ipython3",
   "version": "3.8.5"
  }
 },
 "nbformat": 4,
 "nbformat_minor": 1
}